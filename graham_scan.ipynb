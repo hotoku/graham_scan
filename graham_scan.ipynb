{
 "cells": [
  {
   "cell_type": "markdown",
   "metadata": {},
   "source": [
    "# Graham Scan"
   ]
  },
  {
   "cell_type": "markdown",
   "metadata": {},
   "source": [
    "## 概要"
   ]
  },
  {
   "cell_type": "markdown",
   "metadata": {},
   "source": [
    "仕事で平面の点群の凸包を計算する必要があった。いくつかのアルゴリズムが見つかるが、Graham Scanを実装したので内容をメモしておく。"
   ]
  },
  {
   "cell_type": "markdown",
   "metadata": {},
   "source": [
    "## アルゴリズム"
   ]
  },
  {
   "cell_type": "markdown",
   "metadata": {},
   "source": [
    "以下では、次のような点群の凸包をGraham Scanのアルゴリズムに従って、実際に計算してみる"
   ]
  },
  {
   "cell_type": "code",
   "execution_count": 78,
   "metadata": {},
   "outputs": [],
   "source": [
    "import numpy as np\n",
    "import matplotlib.pyplot as plt"
   ]
  },
  {
   "cell_type": "markdown",
   "metadata": {},
   "source": [
    "### 重心を計算する"
   ]
  },
  {
   "cell_type": "code",
   "execution_count": 79,
   "metadata": {},
   "outputs": [],
   "source": [
    "ps = np.array([\n",
    "    [0,0],\n",
    "    [1,1],\n",
    "    [2,2]\n",
    "])"
   ]
  },
  {
   "cell_type": "code",
   "execution_count": 80,
   "metadata": {},
   "outputs": [],
   "source": [
    "def _center(ps):\n",
    "    return np.mean(ps, axis=0)"
   ]
  },
  {
   "cell_type": "code",
   "execution_count": 81,
   "metadata": {},
   "outputs": [
    {
     "data": {
      "text/plain": [
       "array([1., 1.])"
      ]
     },
     "execution_count": 81,
     "metadata": {},
     "output_type": "execute_result"
    }
   ],
   "source": [
    "_center(ps)"
   ]
  },
  {
   "cell_type": "code",
   "execution_count": 82,
   "metadata": {},
   "outputs": [
    {
     "data": {
      "text/plain": [
       "array([[-1., -1.],\n",
       "       [ 0.,  0.],\n",
       "       [ 1.,  1.]])"
      ]
     },
     "execution_count": 82,
     "metadata": {},
     "output_type": "execute_result"
    }
   ],
   "source": [
    "ps - _center(ps)"
   ]
  },
  {
   "cell_type": "code",
   "execution_count": 83,
   "metadata": {},
   "outputs": [],
   "source": [
    "ps2 = np.array([\n",
    "    [1,1],\n",
    "    [-1,1],\n",
    "    [-1,-1],\n",
    "    [1,-1],\n",
    "    [0,0.5],\n",
    "    [-0.5,0],\n",
    "    [0,-0.5],\n",
    "    [0.5,0]\n",
    "])"
   ]
  },
  {
   "cell_type": "code",
   "execution_count": 84,
   "metadata": {},
   "outputs": [],
   "source": [
    "def _normalize(ps):\n",
    "    return (ps.T / np.linalg.norm(ps, axis=1)).T"
   ]
  },
  {
   "cell_type": "code",
   "execution_count": 85,
   "metadata": {},
   "outputs": [
    {
     "name": "stderr",
     "output_type": "stream",
     "text": [
      "<ipython-input-84-ebf089c2bdff>:2: RuntimeWarning: invalid value encountered in true_divide\n",
      "  return (ps.T / np.linalg.norm(ps, axis=1)).T\n"
     ]
    },
    {
     "data": {
      "text/plain": [
       "array([[       nan,        nan],\n",
       "       [0.70710678, 0.70710678],\n",
       "       [0.70710678, 0.70710678]])"
      ]
     },
     "execution_count": 85,
     "metadata": {},
     "output_type": "execute_result"
    }
   ],
   "source": [
    "_normalize(ps)"
   ]
  },
  {
   "cell_type": "code",
   "execution_count": 86,
   "metadata": {},
   "outputs": [
    {
     "data": {
      "text/plain": [
       "array([[ 0.70710678,  0.70710678],\n",
       "       [-0.70710678,  0.70710678],\n",
       "       [-0.70710678, -0.70710678],\n",
       "       [ 0.70710678, -0.70710678],\n",
       "       [ 0.        ,  1.        ],\n",
       "       [-1.        ,  0.        ],\n",
       "       [ 0.        , -1.        ],\n",
       "       [ 1.        ,  0.        ]])"
      ]
     },
     "execution_count": 86,
     "metadata": {},
     "output_type": "execute_result"
    }
   ],
   "source": [
    "_normalize(ps2)"
   ]
  },
  {
   "cell_type": "code",
   "execution_count": 87,
   "metadata": {},
   "outputs": [],
   "source": [
    "def _angle(p):\n",
    "    p2 = _normalize(p)\n",
    "    ac = np.arccos(p2[:,0])\n",
    "    ac[np.where(p2[:,1] < 0)] *= -1\n",
    "    ac[np.where(p2[:,1] < 0)] += 2*np.pi\n",
    "    return ac"
   ]
  },
  {
   "cell_type": "code",
   "execution_count": 88,
   "metadata": {},
   "outputs": [
    {
     "name": "stderr",
     "output_type": "stream",
     "text": [
      "<ipython-input-84-ebf089c2bdff>:2: RuntimeWarning: invalid value encountered in true_divide\n",
      "  return (ps.T / np.linalg.norm(ps, axis=1)).T\n"
     ]
    },
    {
     "data": {
      "text/plain": [
       "array([       nan, 0.78539816, 0.78539816])"
      ]
     },
     "execution_count": 88,
     "metadata": {},
     "output_type": "execute_result"
    }
   ],
   "source": [
    "_angle(ps)"
   ]
  },
  {
   "cell_type": "code",
   "execution_count": 89,
   "metadata": {},
   "outputs": [
    {
     "data": {
      "text/plain": [
       "array([0.78539816, 2.35619449, 3.92699082, 5.49778714, 1.57079633,\n",
       "       3.14159265, 4.71238898, 0.        ])"
      ]
     },
     "execution_count": 89,
     "metadata": {},
     "output_type": "execute_result"
    }
   ],
   "source": [
    "_angle(ps2)"
   ]
  },
  {
   "cell_type": "code",
   "execution_count": 90,
   "metadata": {},
   "outputs": [
    {
     "data": {
      "text/plain": [
       "array([[ 0.5,  0. ],\n",
       "       [ 1. ,  1. ],\n",
       "       [ 0. ,  0.5],\n",
       "       [-1. ,  1. ],\n",
       "       [-0.5,  0. ],\n",
       "       [-1. , -1. ],\n",
       "       [ 0. , -0.5],\n",
       "       [ 1. , -1. ]])"
      ]
     },
     "execution_count": 90,
     "metadata": {},
     "output_type": "execute_result"
    }
   ],
   "source": [
    "ps2[np.argsort(_angle(ps2))]"
   ]
  },
  {
   "cell_type": "code",
   "execution_count": 91,
   "metadata": {},
   "outputs": [],
   "source": [
    "def _on_left(a, b, c):\n",
    "    \"\"\"\n",
    "    Parameters\n",
    "    ----------\n",
    "    a, b, c: np.ndarray of shape (1, 2).\n",
    "    \n",
    "    Returns\n",
    "    -------\n",
    "    ret: bool.\n",
    "    Standing on point a, watching point b, if c is left of the line ab, returned value is True.\n",
    "    \"\"\"\n",
    "    mat = np.ones((3,3))\n",
    "    mat[:,:2] = [a,b,c]\n",
    "    return np.linalg.det(mat) > 0"
   ]
  },
  {
   "cell_type": "code",
   "execution_count": 92,
   "metadata": {},
   "outputs": [],
   "source": [
    "def graham_scan(ps):\n",
    "    \"\"\"\n",
    "    Parameters\n",
    "    ----------\n",
    "    ps: np.ndarray of shape (n, 2)\n",
    "    \n",
    "    Returns\n",
    "    -------\n",
    "    convex hull: np.ndarray of shape (m, 2), where m <= n.\n",
    "    \"\"\"\n",
    "    center = _center(ps)\n",
    "    ps2 = ps - center\n",
    "    angle = _angle(ps2)\n",
    "    ps3 = ps[np.argsort(angle)]\n",
    "    if len(ps) <= 3:\n",
    "        return ps3\n",
    "    start = 0\n",
    "    p0 = ps3[0]\n",
    "    n = len(ps)\n",
    "    for i in range(1, n):\n",
    "        cur = ps3[i]\n",
    "        if cur[0] < p0[0]:\n",
    "            p0 = cur\n",
    "            start = i\n",
    "        if cur[0] == p0[0] and cur[1] < p0[1]:\n",
    "            p0 = cur\n",
    "            start = i\n",
    "    ps4 = np.vstack([ps3[start:], ps3[:start], [ps3[start]]])\n",
    "    ret = []\n",
    "    ret.append(ps4[0])\n",
    "    ret.append(ps4[1])\n",
    "    for p in ps4[2:]:\n",
    "        ret.append(p)\n",
    "        while len(ret) >= 3 and not _on_left(ret[-3], ret[-2], ret[-1]):\n",
    "            ret = ret[:-2] + ret[-1:]\n",
    "    return np.array(ret[:-1])"
   ]
  },
  {
   "cell_type": "code",
   "execution_count": 93,
   "metadata": {},
   "outputs": [
    {
     "data": {
      "text/plain": [
       "array([[-1., -1.],\n",
       "       [ 1., -1.],\n",
       "       [ 1.,  1.],\n",
       "       [-1.,  1.]])"
      ]
     },
     "execution_count": 93,
     "metadata": {},
     "output_type": "execute_result"
    }
   ],
   "source": [
    "graham_scan(ps2)"
   ]
  },
  {
   "cell_type": "code",
   "execution_count": 94,
   "metadata": {},
   "outputs": [
    {
     "data": {
      "text/plain": [
       "array([[-2.68798792,  0.95048832],\n",
       "       [-1.95777956, -0.81446958],\n",
       "       [-1.29229021, -1.66062861],\n",
       "       [ 1.87075089, -1.33452904],\n",
       "       [ 2.40567265,  0.66013809],\n",
       "       [ 2.17553108,  2.52336695],\n",
       "       [ 0.74596231,  2.47584095],\n",
       "       [-0.94839541,  1.99910857]])"
      ]
     },
     "execution_count": 94,
     "metadata": {},
     "output_type": "execute_result"
    }
   ],
   "source": [
    "ps3 = np.random.normal(0, 1, 100).reshape((-1,2))\n",
    "gs = graham_scan(ps3)\n",
    "gs"
   ]
  },
  {
   "cell_type": "code",
   "execution_count": 95,
   "metadata": {},
   "outputs": [
    {
     "data": {
      "text/plain": [
       "[<matplotlib.lines.Line2D at 0x7fa373229eb0>]"
      ]
     },
     "execution_count": 95,
     "metadata": {},
     "output_type": "execute_result"
    },
    {
     "data": {
      "image/png": "[encoded data removed]",
      "text/plain": [
       "<Figure size 432x288 with 1 Axes>"
      ]
     },
     "metadata": {
      "needs_background": "light"
     },
     "output_type": "display_data"
    }
   ],
   "source": [
    "plt.plot(ps3[:,0], ps3[:,1])\n",
    "plt.plot(gs[:,0], gs[:,1])"
   ]
  },
  {
   "cell_type": "code",
   "execution_count": null,
   "metadata": {},
   "outputs": [],
   "source": []
  }
 ],
 "metadata": {
  "kernelspec": {
   "display_name": "Python 3",
   "language": "python",
   "name": "python3"
  },
  "language_info": {
   "codemirror_mode": {
    "name": "ipython",
    "version": 3
   },
   "file_extension": ".py",
   "mimetype": "text/x-python",
   "name": "python",
   "nbconvert_exporter": "python",
   "pygments_lexer": "ipython3",
   "version": "3.8.1"
  }
 },
 "nbformat": 4,
 "nbformat_minor": 4
}
