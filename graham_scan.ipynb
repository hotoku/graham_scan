{
 "cells": [
  {
   "cell_type": "markdown",
   "metadata": {},
   "source": [
    "# Graham Scan"
   ]
  },
  {
   "cell_type": "markdown",
   "metadata": {},
   "source": [
    "## 概要"
   ]
  },
  {
   "cell_type": "markdown",
   "metadata": {},
   "source": [
    "仕事で平面の点群の凸包を計算する必要があった。いくつかのアルゴリズムが見つかるが、Graham Scanを実装したので内容をメモしておく。"
   ]
  },
  {
   "cell_type": "markdown",
   "metadata": {},
   "source": [
    "## アルゴリズム"
   ]
  },
  {
   "cell_type": "markdown",
   "metadata": {},
   "source": [
    "以下では、次のような点群の凸包をGraham Scanのアルゴリズムに従って、実際に計算してみる"
   ]
  },
  {
   "cell_type": "code",
   "execution_count": 73,
   "metadata": {},
   "outputs": [],
   "source": [
    "import numpy as np\n",
    "import matplotlib.pyplot as plt\n",
    "%matplotlib inline"
   ]
  },
  {
   "cell_type": "code",
   "execution_count": 74,
   "metadata": {},
   "outputs": [],
   "source": [
    "_ps = np.array([\n",
    "    [1,1],\n",
    "    [-1,1],\n",
    "    [-1,-1],\n",
    "    [1,-1],\n",
    "    [0,0.5],\n",
    "    [-0.5,0],\n",
    "    [0,-0.5],\n",
    "    [0.5,0]\n",
    "])\n",
    "def _rotate(theta, ps):\n",
    "    mat = np.array([\n",
    "        [np.cos(theta), np.sin(theta)],\n",
    "        [-np.sin(theta), np.cos(theta)]\n",
    "    ])\n",
    "    return np.dot(ps, mat)\n",
    "ps = _rotate(10 * np.pi / 180, _ps)"
   ]
  },
  {
   "cell_type": "code",
   "execution_count": 75,
   "metadata": {},
   "outputs": [
    {
     "data": {
      "text/plain": [
       "array([[ 0.81115958,  1.15845593],\n",
       "       [-1.15845593,  0.81115958],\n",
       "       [-0.81115958, -1.15845593],\n",
       "       [ 1.15845593, -0.81115958],\n",
       "       [-0.08682409,  0.49240388],\n",
       "       [-0.49240388, -0.08682409],\n",
       "       [ 0.08682409, -0.49240388],\n",
       "       [ 0.49240388,  0.08682409]])"
      ]
     },
     "execution_count": 75,
     "metadata": {},
     "output_type": "execute_result"
    }
   ],
   "source": [
    "ps"
   ]
  },
  {
   "cell_type": "code",
   "execution_count": 76,
   "metadata": {},
   "outputs": [
    {
     "data": {
      "text/plain": [
       "<matplotlib.collections.PathCollection at 0x7ffe5806d5b0>"
      ]
     },
     "execution_count": 76,
     "metadata": {},
     "output_type": "execute_result"
    },
    {
     "data": {
      "image/png": "[encoded data removed]",
      "text/plain": [
       "<Figure size 432x288 with 1 Axes>"
      ]
     },
     "metadata": {
      "needs_background": "light"
     },
     "output_type": "display_data"
    }
   ],
   "source": [
    "plt.scatter(ps[:,0], ps[:,1])"
   ]
  },
  {
   "cell_type": "code",
   "execution_count": 77,
   "metadata": {},
   "outputs": [],
   "source": [
    "def _center(ps):\n",
    "    return np.mean(ps, axis=0)"
   ]
  },
  {
   "cell_type": "code",
   "execution_count": 78,
   "metadata": {},
   "outputs": [],
   "source": [
    "def _normalize(ps):\n",
    "    return (ps.T / np.linalg.norm(ps, axis=1)).T"
   ]
  },
  {
   "cell_type": "code",
   "execution_count": 79,
   "metadata": {},
   "outputs": [],
   "source": [
    "def _angle(p):\n",
    "    p2 = _normalize(p)\n",
    "    ac = np.arccos(p2[:,0])\n",
    "    ac[np.where(p2[:,1] < 0)] *= -1\n",
    "    ac[np.where(p2[:,1] < 0)] += 2*np.pi\n",
    "    return ac"
   ]
  },
  {
   "cell_type": "code",
   "execution_count": 80,
   "metadata": {},
   "outputs": [],
   "source": [
    "def _on_left(a, b, c):\n",
    "    \"\"\"\n",
    "    Parameters\n",
    "    ----------\n",
    "    a, b, c: np.ndarray of shape (1, 2).\n",
    "    \n",
    "    Returns\n",
    "    -------\n",
    "    ret: bool.\n",
    "    Standing on point a, watching point b, if c is left of the line ab, returned value is True.\n",
    "    \"\"\"\n",
    "    mat = np.ones((3,3))\n",
    "    mat[:,:2] = [a,b,c]\n",
    "    return np.linalg.det(mat) > 0"
   ]
  },
  {
   "cell_type": "code",
   "execution_count": 81,
   "metadata": {},
   "outputs": [],
   "source": [
    "def graham_scan(ps):\n",
    "    \"\"\"\n",
    "    Parameters\n",
    "    ----------\n",
    "    ps: np.ndarray of shape (n, 2)\n",
    "    \n",
    "    Returns\n",
    "    -------\n",
    "    convex hull: np.ndarray of shape (m, 2), where m <= n.\n",
    "    \"\"\"\n",
    "    center = _center(ps)\n",
    "    ps2 = ps - center\n",
    "    angle = _angle(ps2)\n",
    "    ps3 = ps[np.argsort(angle)]\n",
    "    if len(ps) <= 3:\n",
    "        return ps3\n",
    "    start = 0\n",
    "    p0 = ps3[0]\n",
    "    n = len(ps)\n",
    "    for i in range(1, n):\n",
    "        cur = ps3[i]\n",
    "        if (cur[0] < p0[0]) or \\\n",
    "            (cur[0] == p0[0] and cur[1] < p0[1]):\n",
    "            p0 = cur\n",
    "            start = i\n",
    "    ps4 = np.vstack([ps3[start:], ps3[:start], [ps3[start]]])\n",
    "    ret = []\n",
    "    ret.append(ps4[0])\n",
    "    ret.append(ps4[1])\n",
    "    for p in ps4[2:]:\n",
    "        ret.append(p)\n",
    "        while len(ret) >= 3 and not _on_left(ret[-3], ret[-2], ret[-1]):\n",
    "            ret = ret[:-2] + ret[-1:]\n",
    "    return np.array(ret[:-1])"
   ]
  },
  {
   "cell_type": "code",
   "execution_count": 83,
   "metadata": {},
   "outputs": [
    {
     "data": {
      "text/plain": [
       "array([[-1.15845593,  0.81115958],\n",
       "       [-0.81115958, -1.15845593],\n",
       "       [ 1.15845593, -0.81115958],\n",
       "       [ 0.81115958,  1.15845593]])"
      ]
     },
     "execution_count": 83,
     "metadata": {},
     "output_type": "execute_result"
    }
   ],
   "source": [
    "graham_scan(ps)"
   ]
  },
  {
   "cell_type": "code",
   "execution_count": 113,
   "metadata": {},
   "outputs": [
    {
     "data": {
      "text/plain": [
       "array([[-1.79835811, -0.31259372],\n",
       "       [-1.31147364, -2.80773766],\n",
       "       [-0.43549368, -2.61817401],\n",
       "       [ 1.57793675, -0.73846837],\n",
       "       [ 1.75448837, -0.08309306],\n",
       "       [ 2.22966579,  3.07669342],\n",
       "       [-1.12215051,  2.1916313 ],\n",
       "       [-1.51469693,  1.17177124]])"
      ]
     },
     "execution_count": 113,
     "metadata": {},
     "output_type": "execute_result"
    }
   ],
   "source": [
    "ps3 = np.random.normal(0, 1, 100).reshape((-1,2))\n",
    "gs = graham_scan(ps3)\n",
    "gs"
   ]
  },
  {
   "cell_type": "code",
   "execution_count": 114,
   "metadata": {},
   "outputs": [
    {
     "data": {
      "text/plain": [
       "[<matplotlib.lines.Line2D at 0x7ffe59079580>]"
      ]
     },
     "execution_count": 114,
     "metadata": {},
     "output_type": "execute_result"
    },
    {
     "data": {
      "image/png": "[encoded data removed]",
      "text/plain": [
       "<Figure size 432x288 with 1 Axes>"
      ]
     },
     "metadata": {
      "needs_background": "light"
     },
     "output_type": "display_data"
    }
   ],
   "source": [
    "plt.plot(ps3[:,0], ps3[:,1])\n",
    "plt.plot(gs[:,0], gs[:,1])"
   ]
  }
 ],
 "metadata": {
  "kernelspec": {
   "display_name": "Python 3",
   "language": "python",
   "name": "python3"
  },
  "language_info": {
   "codemirror_mode": {
    "name": "ipython",
    "version": 3
   },
   "file_extension": ".py",
   "mimetype": "text/x-python",
   "name": "python",
   "nbconvert_exporter": "python",
   "pygments_lexer": "ipython3",
   "version": "3.8.1"
  }
 },
 "nbformat": 4,
 "nbformat_minor": 4
}
