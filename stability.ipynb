{
 "cells": [
  {
   "cell_type": "markdown",
   "metadata": {},
   "source": [
    "平面上の点の位置の判定の安定性について調べてみた。\n",
    "\n",
    "幾何的な計算を代数で行う（つまりコンピュータで扱えるような計算で行う）際に、ある点$p$が別の2点$q,r$のなす直線のどちら側にあるか？というのは基本的な問題である。基本的な問題であるが、有限精度での計算しか行えないコンピュータ（というか人類）には、なかなか難しい問題である。\n",
    "\n",
    "Kettner L., Mehlhorn K., Pion S., Schirra S., Yap C. (2004) Classroom Examples of Robustness Problems in Geometric Computations. In: Albers S., Radzik T. (eds) Algorithms – ESA 2004. ESA 2004. Lecture Notes in Computer Science, vol 3221. Springer, Berlin, Heidelberg. https://doi.org/10.1007/978-3-540-30140-0_62\n",
    "\n",
    "上の論文に出てくる具体例を使って、実際に自分でも難しさを味わってみたのでメモする。"
   ]
  },
  {
   "cell_type": "markdown",
   "metadata": {},
   "source": [
    "## 問題"
   ]
  },
  {
   "cell_type": "markdown",
   "metadata": {},
   "source": [
    "平面上の3点$p,q,r$が与えられたときに、点$p$が直線$q,r$のどちら側にあるか（あるいは直線上に乗っているか）を判定するプログラムを書きたい。じっくり考えると、\n",
    "\n",
    "$$\n",
    "\\begin{matrix}\n",
    "1 & p_x & p_y \\\\\n",
    "1 & q_x & q_y \\\\\n",
    "1 & r_x & r_y\n",
    "\\end{matrix}\n",
    "$$\n",
    "\n",
    "上のような行列を考えて、この行列式の符号で判定できることが分かる。具体的には、行列式が正（負）ならば、$p$は直線$qr$の左（右）側にある。ただし、**$p$が$qr$の左側にある**とは、$q$の上に立って$r$の方を観たときに、$p$が左側にあることとする。"
   ]
  },
  {
   "cell_type": "code",
   "execution_count": 50,
   "metadata": {},
   "outputs": [],
   "source": [
    "import matplotlib.pyplot as plt\n",
    "import numpy as np\n",
    "import itertools\n",
    "import matplotlib.pyplot as plt"
   ]
  },
  {
   "cell_type": "code",
   "execution_count": 73,
   "metadata": {},
   "outputs": [
    {
     "data": {
      "image/png": "[encoded data removed]",
      "text/plain": [
       "<Figure size 432x288 with 1 Axes>"
      ]
     },
     "metadata": {
      "needs_background": "light"
     },
     "output_type": "display_data"
    }
   ],
   "source": [
    "# __NOT_RENDER_SOURCE__\n",
    "\n",
    "_x = np.array([\n",
    "    [0.3, 1.4],\n",
    "    [0, 0],\n",
    "    [1.5, 1.5]\n",
    "])\n",
    "plt.scatter(_x[:,0], _x[:,1])\n",
    "for i, v in enumerate([\"p\", \"q\", \"r\"]):\n",
    "    plt.text(*_x[i] + [0.05,0.05], v, size=15)\n",
    "_ = plt.xlim((-0.1, 2.2))\n",
    "_ = plt.ylim((-0.1, 2.2))    "
   ]
  },
  {
   "cell_type": "markdown",
   "metadata": {},
   "source": [
    "上の図のような配置のとき、$p$は$qr$の左側。このとき、上の行列式は正。"
   ]
  },
  {
   "cell_type": "markdown",
   "metadata": {},
   "source": [
    "上の行列式によって、点の位置を判定する関数を実装する。"
   ]
  },
  {
   "cell_type": "code",
   "execution_count": 53,
   "metadata": {},
   "outputs": [],
   "source": [
    "def orientation(p, q, r):\n",
    "    return np.sign((q[0]-p[0])*(r[1]-p[1])-(q[1]-p[1])*(r[0]-p[0]))"
   ]
  },
  {
   "cell_type": "markdown",
   "metadata": {},
   "source": [
    "計算機の誤差の限界を以下の通りに探す。"
   ]
  },
  {
   "cell_type": "code",
   "execution_count": 54,
   "metadata": {},
   "outputs": [
    {
     "name": "stdout",
     "output_type": "stream",
     "text": [
      "1.1102230246251565e-16 53\n"
     ]
    }
   ],
   "source": [
    "eps = 1.0\n",
    "cnt = 0\n",
    "while 1 + eps != 1:\n",
    "    eps /= 2\n",
    "    cnt += 1\n",
    "print(eps, cnt)    "
   ]
  },
  {
   "cell_type": "markdown",
   "metadata": {},
   "source": [
    "適当な平面上の3点$p,q,r$を固定し、$(p_x + m \\epsilon, p_y + n \\epsilon)$が$qr$の右側か左側かを$m,n\\in\\{0, \\ldots, 255\\}$の範囲で判定してみる。"
   ]
  },
  {
   "cell_type": "code",
   "execution_count": 57,
   "metadata": {},
   "outputs": [],
   "source": [
    "p = np.array([0.5, 0.5])\n",
    "q = np.array([12, 12])\n",
    "r = np.array([24, 24])"
   ]
  },
  {
   "cell_type": "code",
   "execution_count": 58,
   "metadata": {},
   "outputs": [],
   "source": [
    "ms, ns = range(256), range(256)"
   ]
  },
  {
   "cell_type": "code",
   "execution_count": 59,
   "metadata": {},
   "outputs": [],
   "source": [
    "ret = np.array([orientation(p + np.array([m*eps, n*eps]), q, r) for m, n in itertools.product(ms, ns)])\\\n",
    "    .reshape((-1, 256))"
   ]
  },
  {
   "cell_type": "code",
   "execution_count": 60,
   "metadata": {},
   "outputs": [
    {
     "data": {
      "text/plain": [
       "<matplotlib.image.AxesImage at 0x12398e7c0>"
      ]
     },
     "execution_count": 60,
     "metadata": {},
     "output_type": "execute_result"
    },
    {
     "data": {
      "image/png": "[encoded data removed]",
      "text/plain": [
       "<Figure size 432x288 with 1 Axes>"
      ]
     },
     "metadata": {
      "needs_background": "light"
     },
     "output_type": "display_data"
    }
   ],
   "source": [
    "fig, ax = plt.subplots()\n",
    "ax.imshow(ret)"
   ]
  },
  {
   "cell_type": "markdown",
   "metadata": {},
   "source": [
    "図のように、境界値付近で、たくさんの判定ミスをしている。この図は、右方向がx軸の正の向き、下方向がy軸の正の向きとなっていることに注意。"
   ]
  },
  {
   "cell_type": "markdown",
   "metadata": {},
   "source": [
    "ちなみに、`np.linalg.det`で行列式を計算すると、結果が安定したのでついでにメモ。"
   ]
  },
  {
   "cell_type": "code",
   "execution_count": 62,
   "metadata": {},
   "outputs": [],
   "source": [
    "def orientation2(p, q, r):\n",
    "    mat = np.ones((3,3))\n",
    "    mat[:,:2] = [p,q,r]\n",
    "    return np.sign(np.linalg.det(mat))"
   ]
  },
  {
   "cell_type": "code",
   "execution_count": 64,
   "metadata": {},
   "outputs": [],
   "source": [
    "ret2 = np.array([orientation2(p + np.array([m*eps, n*eps]), q, r) for m, n in itertools.product(ms, ns)])\\\n",
    "    .reshape((-1, 256))"
   ]
  },
  {
   "cell_type": "code",
   "execution_count": 74,
   "metadata": {},
   "outputs": [
    {
     "data": {
      "text/plain": [
       "<matplotlib.image.AxesImage at 0x12338cc70>"
      ]
     },
     "execution_count": 74,
     "metadata": {},
     "output_type": "execute_result"
    },
    {
     "data": {
      "image/png": "[encoded data removed]",
      "text/plain": [
       "<Figure size 432x288 with 1 Axes>"
      ]
     },
     "metadata": {
      "needs_background": "light"
     },
     "output_type": "display_data"
    }
   ],
   "source": [
    "fig, ax = plt.subplots()\n",
    "ax.imshow(ret2)"
   ]
  },
  {
   "cell_type": "markdown",
   "metadata": {},
   "source": [
    "きれい過ぎて分からないので左上を拡大"
   ]
  },
  {
   "cell_type": "code",
   "execution_count": 67,
   "metadata": {},
   "outputs": [
    {
     "data": {
      "text/plain": [
       "<matplotlib.image.AxesImage at 0x123a9b550>"
      ]
     },
     "execution_count": 67,
     "metadata": {},
     "output_type": "execute_result"
    },
    {
     "data": {
      "image/png": "[encoded data removed]",
      "text/plain": [
       "<Figure size 432x288 with 1 Axes>"
      ]
     },
     "metadata": {
      "needs_background": "light"
     },
     "output_type": "display_data"
    }
   ],
   "source": [
    "fig, ax = plt.subplots()\n",
    "ax.imshow(ret2[:30, :30])"
   ]
  },
  {
   "cell_type": "markdown",
   "metadata": {},
   "source": [
    "すごい"
   ]
  }
 ],
 "metadata": {
  "kernelspec": {
   "display_name": "Python 3",
   "language": "python",
   "name": "python3"
  },
  "language_info": {
   "codemirror_mode": {
    "name": "ipython",
    "version": 3
   },
   "file_extension": ".py",
   "mimetype": "text/x-python",
   "name": "python",
   "nbconvert_exporter": "python",
   "pygments_lexer": "ipython3",
   "version": "3.8.5"
  }
 },
 "nbformat": 4,
 "nbformat_minor": 4
}
